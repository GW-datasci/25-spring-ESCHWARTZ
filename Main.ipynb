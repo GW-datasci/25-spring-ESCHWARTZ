{
 "cells": [
  {
   "cell_type": "markdown",
   "metadata": {},
   "source": [
    "# Plan for data processing"
   ]
  },
  {
   "cell_type": "code",
   "execution_count": 1,
   "metadata": {},
   "outputs": [],
   "source": [
    "# reading data in \n",
    "# for every subject, read in both data frames by processing each file \n",
    "# once all data frames read in, multiply sp02HR entries by 8 each\n",
    "# merge data frames together \n",
    "# add column for physiological stress binary variable \n",
    "# DATA PROCESSING STEPS FROM ML CLASS\n",
    "    # 60% of dataframes as training data, 20% as validation, 20% as testing\n",
    "    # unbalanced data....? SMOTE?\n",
    "\n"
   ]
  },
  {
   "cell_type": "markdown",
   "metadata": {},
   "source": [
    "# Libraries"
   ]
  },
  {
   "cell_type": "code",
   "execution_count": 63,
   "metadata": {},
   "outputs": [],
   "source": [
    "import wfdb\n",
    "import pandas as pd\n",
    "import numpy as np\n",
    "import matplotlib.pyplot as plt\n",
    "import os\n",
    "import random"
   ]
  },
  {
   "cell_type": "code",
   "execution_count": 3,
   "metadata": {},
   "outputs": [
    {
     "name": "stdout",
     "output_type": "stream",
     "text": [
      "['Subject9_SpO2HR.dat', 'Subject11_SpO2HR.dat', 'Subject12_SpO2HR.hea', 'Subject18_AccTempEDA.dat', 'Subject10_AccTempEDA.dat', 'Subject2_AccTempEDA.dat', 'Subject7_SpO2HR.hea', 'Subject4_SpO2HR.dat', 'Main.ipynb', 'Subject17_AccTempEDA.dat', 'RECORDS', 'Subject5_AccTempEDA.dat', 'Subject16_AccTempEDA.dat', 'Subject19_SpO2HR.dat', 'Subject1_SpO2HR.dat', 'Subject2_SpO2HR.hea', 'Subject4_AccTempEDA.dat', 'Subject11_AccTempEDA.dat', 'Subject20_AccTempEDA.atr', 'Subject17_SpO2HR.hea', 'Subject14_SpO2HR.dat', 'Subject20_SpO2HR.hea', 'Subject3_AccTempEDA.dat', 'subjectinfo.csv', 'Subject19_AccTempEDA.dat', 'Subject1_AccTempEDA.dat', 'Subject13_AccTempEDA.dat', 'Subject20_AccTempEDA.hea', 'Subject8_SpO2HR.hea', 'Subject10_SpO2HR.hea', 'Subject13_SpO2HR.dat', 'Subject9_AccTempEDA.dat', 'ANNOTATORS', 'Subject6_AccTempEDA.dat', 'Subject14_AccTempEDA.dat', 'Subject6_SpO2HR.dat', 'Subject5_SpO2HR.hea', 'Subject7_AccTempEDA.dat', 'Subject18_SpO2HR.hea', 'Subject3_SpO2HR.dat', 'Subject15_AccTempEDA.dat', 'Subject8_AccTempEDA.dat', 'Subject12_AccTempEDA.dat', 'Subject16_SpO2HR.dat', 'Subject15_SpO2HR.hea', 'Subject15_AccTempEDA.hea', 'Subject7_AccTempEDA.hea', 'Subject18_SpO2HR.dat', 'Subject3_SpO2HR.hea', 'Subject17_AccTempEDA.atr', 'Subject5_AccTempEDA.atr', 'Subject12_AccTempEDA.hea', 'Subject15_SpO2HR.dat', 'Subject16_SpO2HR.hea', 'Subject18_AccTempEDA.atr', 'Subject8_AccTempEDA.hea', 'Subject10_AccTempEDA.atr', 'Subject2_AccTempEDA.atr', 'Subject11_AccTempEDA.atr', 'Subject9_AccTempEDA.hea', 'Subject8_SpO2HR.dat', 'Subject20_AccTempEDA.dat', 'Subject3_AccTempEDA.atr', 'Subject13_SpO2HR.hea', 'Subject10_SpO2HR.dat', 'Subject13_AccTempEDA.hea', 'Subject1_AccTempEDA.hea', 'Subject19_AccTempEDA.atr', 'Subject16_AccTempEDA.atr', 'Subject5_SpO2HR.dat', 'Subject6_SpO2HR.hea', 'Subject4_AccTempEDA.atr', 'Subject14_AccTempEDA.hea', 'Subject6_AccTempEDA.hea', 'Subject6_AccTempEDA.atr', 'Subject14_AccTempEDA.atr', 'Subject4_AccTempEDA.hea', 'Subject19_SpO2HR.hea', 'Subject16_AccTempEDA.hea', 'Subject2_SpO2HR.dat', 'Subject1_SpO2HR.hea', 'Subject1_AccTempEDA.atr', 'Subject19_AccTempEDA.hea', 'Subject13_AccTempEDA.atr', 'Subject20_SpO2HR.dat', 'Subject3_AccTempEDA.hea', 'Subject14_SpO2HR.hea', 'Subject17_SpO2HR.dat', 'Subject11_AccTempEDA.hea', 'Subject9_AccTempEDA.atr', 'Subject2_AccTempEDA.hea', 'SHA256SUMS.txt', 'Subject8_AccTempEDA.atr', 'Subject10_AccTempEDA.hea', 'Subject18_AccTempEDA.hea', 'Subject9_SpO2HR.hea', 'Subject12_SpO2HR.dat', 'Subject11_SpO2HR.hea', 'Subject12_AccTempEDA.atr', 'Subject5_AccTempEDA.hea', 'Subject17_AccTempEDA.hea', 'Subject7_AccTempEDA.atr', 'Subject4_SpO2HR.hea', 'Subject7_SpO2HR.dat', 'Subject15_AccTempEDA.atr']\n"
     ]
    }
   ],
   "source": [
    "print(os.listdir())"
   ]
  },
  {
   "cell_type": "markdown",
   "metadata": {},
   "source": [
    "# data processing"
   ]
  },
  {
   "cell_type": "code",
   "execution_count": 22,
   "metadata": {},
   "outputs": [],
   "source": [
    "\n",
    "\n",
    "for file in os.listdir():\n",
    "    if file.endswith(\".dat\"):\n",
    "        record = wfdb.rdrecord(file[:-4], sampfrom=0, sampto=None)\n",
    "        signals = record.p_signal\n",
    "        raw_signals = record.d_signal\n",
    "        signal_names = record.sig_name\n",
    "        df = pd.DataFrame(data = signals, columns=record.sig_name)\n",
    "        df['time'] = np.arange(len(df)) / record.fs\n",
    "        # print(df.head())\n",
    "        df.to_csv(file[:-4] + \".csv\", index=False)\n",
    "\n"
   ]
  },
  {
   "cell_type": "code",
   "execution_count": 27,
   "metadata": {},
   "outputs": [
    {
     "data": {
      "text/plain": [
       "['Subject9_SpO2HR.dat',\n",
       " 'Subject11_SpO2HR.dat',\n",
       " 'Subject12_SpO2HR.hea',\n",
       " 'Subject18_AccTempEDA.dat',\n",
       " 'Subject10_AccTempEDA.dat',\n",
       " 'Subject7_SpO2HR.csv',\n",
       " 'Subject2_AccTempEDA.dat',\n",
       " 'Subject7_SpO2HR.hea',\n",
       " 'Subject4_SpO2HR.dat',\n",
       " 'Main.ipynb',\n",
       " 'Subject17_AccTempEDA.dat',\n",
       " 'Subject12_SpO2HR.csv',\n",
       " 'RECORDS',\n",
       " 'Subject5_AccTempEDA.dat',\n",
       " 'Subject16_AccTempEDA.dat',\n",
       " 'Subject19_SpO2HR.dat',\n",
       " 'Subject1_SpO2HR.dat',\n",
       " 'Subject2_SpO2HR.hea',\n",
       " 'Subject4_AccTempEDA.dat',\n",
       " 'Subject17_SpO2HR.csv',\n",
       " 'Subject20_SpO2HR.csv',\n",
       " 'Subject11_AccTempEDA.dat',\n",
       " 'Subject20_AccTempEDA.atr',\n",
       " 'Subject17_SpO2HR.hea',\n",
       " 'Subject14_SpO2HR.dat',\n",
       " 'Subject20_SpO2HR.hea',\n",
       " 'Subject3_AccTempEDA.dat',\n",
       " 'subjectinfo.csv',\n",
       " 'Subject2_SpO2HR.csv',\n",
       " 'Subject19_AccTempEDA.dat',\n",
       " 'Subject1_AccTempEDA.dat',\n",
       " 'Subject5_SpO2HR.csv',\n",
       " 'Subject13_AccTempEDA.dat',\n",
       " 'Subject20_AccTempEDA.hea',\n",
       " 'Subject8_SpO2HR.hea',\n",
       " 'Subject10_SpO2HR.hea',\n",
       " 'Subject13_SpO2HR.dat',\n",
       " 'Subject9_AccTempEDA.dat',\n",
       " 'ANNOTATORS',\n",
       " 'Subject6_AccTempEDA.dat',\n",
       " 'Subject10_SpO2HR.csv',\n",
       " 'Subject14_AccTempEDA.dat',\n",
       " 'Subject20_AccTempEDA.csv',\n",
       " 'Subject8_SpO2HR.csv',\n",
       " 'Subject6_SpO2HR.dat',\n",
       " 'Subject5_SpO2HR.hea',\n",
       " 'Subject15_SpO2HR.csv',\n",
       " 'Subject7_AccTempEDA.dat',\n",
       " 'Subject18_SpO2HR.hea',\n",
       " 'Subject3_SpO2HR.dat',\n",
       " 'Subject15_AccTempEDA.dat',\n",
       " 'Subject8_AccTempEDA.dat',\n",
       " 'Subject18_SpO2HR.csv',\n",
       " 'Subject12_AccTempEDA.dat',\n",
       " 'Subject16_SpO2HR.dat',\n",
       " 'Subject15_SpO2HR.hea',\n",
       " 'Subject15_AccTempEDA.hea',\n",
       " 'Subject7_AccTempEDA.hea',\n",
       " 'Subject18_SpO2HR.dat',\n",
       " 'Subject3_SpO2HR.hea',\n",
       " 'Subject8_AccTempEDA.csv',\n",
       " 'Subject17_AccTempEDA.atr',\n",
       " 'Subject16_SpO2HR.csv',\n",
       " 'Subject12_AccTempEDA.csv',\n",
       " 'Subject5_AccTempEDA.atr',\n",
       " 'Subject12_AccTempEDA.hea',\n",
       " 'Subject15_SpO2HR.dat',\n",
       " 'Subject16_SpO2HR.hea',\n",
       " 'Subject18_AccTempEDA.atr',\n",
       " 'Subject8_AccTempEDA.hea',\n",
       " 'Subject3_SpO2HR.csv',\n",
       " 'Subject10_AccTempEDA.atr',\n",
       " 'Subject7_AccTempEDA.csv',\n",
       " 'Subject2_AccTempEDA.atr',\n",
       " 'Subject15_AccTempEDA.csv',\n",
       " 'Subject6_AccTempEDA.csv',\n",
       " 'Subject11_AccTempEDA.atr',\n",
       " 'Subject9_AccTempEDA.hea',\n",
       " 'Subject8_SpO2HR.dat',\n",
       " 'Subject20_AccTempEDA.dat',\n",
       " 'Subject14_AccTempEDA.csv',\n",
       " 'Subject3_AccTempEDA.atr',\n",
       " 'Subject13_SpO2HR.hea',\n",
       " 'Subject10_SpO2HR.dat',\n",
       " 'Subject13_AccTempEDA.hea',\n",
       " 'Subject1_AccTempEDA.hea',\n",
       " 'Subject19_AccTempEDA.atr',\n",
       " 'Subject6_SpO2HR.csv',\n",
       " 'Subject16_AccTempEDA.atr',\n",
       " 'Subject5_SpO2HR.dat',\n",
       " 'Subject6_SpO2HR.hea',\n",
       " 'Subject1_AccTempEDA.csv',\n",
       " 'Subject4_AccTempEDA.atr',\n",
       " 'Subject13_AccTempEDA.csv',\n",
       " 'Subject13_SpO2HR.csv',\n",
       " 'Subject14_AccTempEDA.hea',\n",
       " 'Subject9_AccTempEDA.csv',\n",
       " 'Subject6_AccTempEDA.hea',\n",
       " 'Subject11_AccTempEDA.csv',\n",
       " 'Subject6_AccTempEDA.atr',\n",
       " 'Subject3_AccTempEDA.csv',\n",
       " 'Subject14_SpO2HR.csv',\n",
       " 'Subject14_AccTempEDA.atr',\n",
       " 'Subject4_AccTempEDA.hea',\n",
       " 'Subject19_SpO2HR.hea',\n",
       " 'Subject16_AccTempEDA.hea',\n",
       " 'Subject19_AccTempEDA.csv',\n",
       " 'Subject2_SpO2HR.dat',\n",
       " 'Subject1_SpO2HR.hea',\n",
       " 'Subject1_SpO2HR.csv',\n",
       " 'Subject1_AccTempEDA.atr',\n",
       " 'Subject19_AccTempEDA.hea',\n",
       " 'Subject19_SpO2HR.csv',\n",
       " 'Subject16_AccTempEDA.csv',\n",
       " 'Subject13_AccTempEDA.atr',\n",
       " 'Subject4_AccTempEDA.csv',\n",
       " 'Subject20_SpO2HR.dat',\n",
       " 'Subject3_AccTempEDA.hea',\n",
       " 'Subject14_SpO2HR.hea',\n",
       " 'Subject17_SpO2HR.dat',\n",
       " 'Subject11_AccTempEDA.hea',\n",
       " 'Subject9_AccTempEDA.atr',\n",
       " 'Subject2_AccTempEDA.hea',\n",
       " 'SHA256SUMS.txt',\n",
       " 'Subject4_SpO2HR.csv',\n",
       " 'Subject8_AccTempEDA.atr',\n",
       " 'Subject10_AccTempEDA.hea',\n",
       " 'Subject17_AccTempEDA.csv',\n",
       " 'Subject18_AccTempEDA.hea',\n",
       " 'Subject9_SpO2HR.hea',\n",
       " 'Subject5_AccTempEDA.csv',\n",
       " 'Subject12_SpO2HR.dat',\n",
       " 'Subject11_SpO2HR.hea',\n",
       " 'Subject12_AccTempEDA.atr',\n",
       " 'Subject11_SpO2HR.csv',\n",
       " 'Subject9_SpO2HR.csv',\n",
       " 'Subject5_AccTempEDA.hea',\n",
       " 'Subject18_AccTempEDA.csv',\n",
       " 'Subject17_AccTempEDA.hea',\n",
       " 'Subject7_AccTempEDA.atr',\n",
       " 'Subject4_SpO2HR.hea',\n",
       " 'Subject7_SpO2HR.dat',\n",
       " 'Subject10_AccTempEDA.csv',\n",
       " 'Subject15_AccTempEDA.atr',\n",
       " 'Subject2_AccTempEDA.csv']"
      ]
     },
     "execution_count": 27,
     "metadata": {},
     "output_type": "execute_result"
    }
   ],
   "source": [
    "os.listdir()"
   ]
  },
  {
   "cell_type": "code",
   "execution_count": 42,
   "metadata": {},
   "outputs": [],
   "source": [
    "for file in os.listdir():\n",
    "    if file.endswith('_SpO2HR.csv'):\n",
    "        df = pd.read_csv(file)\n",
    "        # print(df.head())\n",
    "        df.drop(columns = ['time'], inplace=True)\n",
    "        sync_df=pd.DataFrame(np.repeat(df.values, 8, axis=0), columns=df.columns)\n",
    "        sync_df['time'] = np.arange(len(sync_df)) / 8\n",
    "        sync_df.to_csv(file[:-4] + \"_sync.csv\", index=False)\n"
   ]
  },
  {
   "cell_type": "code",
   "execution_count": 62,
   "metadata": {},
   "outputs": [],
   "source": [
    "for file in os.listdir():\n",
    "    for i in range(1,21):\n",
    "        if file.startswith(\"Subject\" + str(i)) and file.endswith(\"_sync.csv\"):\n",
    "            # read file in\n",
    "            sync_df = pd.read_csv(file)\n",
    "            # add other dataframe to sync df\n",
    "            for other_file in os.listdir():\n",
    "                if other_file.startswith(\"Subject\" + str(i)) and other_file.endswith(\"AccTempEDA.csv\"):\n",
    "                    acc_df = pd.read_csv(other_file)\n",
    "                    # merge dataframes\n",
    "                    merged_df = pd.merge(sync_df, acc_df, how='inner', on='time')\n",
    "                    # add physiological stress column\n",
    "                    # need the seconds for the physiological stress column -- each entry is 1/8 of a second, so need entries between 5 minutes and 10 minutes -- 5*60*8 for the start of the 5 minutes, then need 5 minutes after that so 10*60*8 is when the 5 minutes ends\n",
    "                    merged_df['physiological_stress'] = np.where((merged_df['time'] >= 5*60*8) & (merged_df['time'] <= 10*60*8), 1, 0)\n",
    "                    # save merged dataframe\n",
    "                    merged_df.to_csv(\"Subject\" + str(i) + \"_merged.csv\", index=False)\n",
    "\n",
    "# now we have all the merged dataframes, need to split them into training, validation, and testing sets -- each subject is named subjectX_merged.csv"
   ]
  },
  {
   "cell_type": "markdown",
   "metadata": {},
   "source": [
    "# train test splitting"
   ]
  },
  {
   "cell_type": "markdown",
   "metadata": {},
   "source": [
    "## normalization"
   ]
  },
  {
   "cell_type": "markdown",
   "metadata": {},
   "source": [
    "# missing data"
   ]
  },
  {
   "cell_type": "markdown",
   "metadata": {},
   "source": [
    "# outlier detection"
   ]
  },
  {
   "cell_type": "markdown",
   "metadata": {},
   "source": [
    "# sensor fusion"
   ]
  },
  {
   "cell_type": "markdown",
   "metadata": {},
   "source": [
    "# discretization"
   ]
  },
  {
   "cell_type": "markdown",
   "metadata": {},
   "source": [
    "# feature selection"
   ]
  },
  {
   "cell_type": "markdown",
   "metadata": {},
   "source": [
    "# feature extraction"
   ]
  },
  {
   "cell_type": "markdown",
   "metadata": {},
   "source": []
  }
 ],
 "metadata": {
  "kernelspec": {
   "display_name": "base",
   "language": "python",
   "name": "python3"
  },
  "language_info": {
   "codemirror_mode": {
    "name": "ipython",
    "version": 3
   },
   "file_extension": ".py",
   "mimetype": "text/x-python",
   "name": "python",
   "nbconvert_exporter": "python",
   "pygments_lexer": "ipython3",
   "version": "3.11.4"
  }
 },
 "nbformat": 4,
 "nbformat_minor": 2
}
