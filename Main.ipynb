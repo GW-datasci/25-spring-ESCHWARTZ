{
 "cells": [
  {
   "cell_type": "code",
   "execution_count": null,
   "metadata": {},
   "outputs": [],
   "source": [
    "# reading data in \n",
    "# for every subject, read in both data frames by processing each file \n",
    "# once all data frames read in, multiply sp02HR entries by 8 each\n",
    "# merge data frames together \n",
    "# after all data frames are merged, see which data frame is the largest\n",
    "# add column for physiological stress binary variable \n",
    "# DATA PROCESSING STEPS FROM ML CLASS\n",
    "    # 60% of dataframes as training data, 20% as validation, 20% as testing\n",
    "    # for missing data step, ensure each data frame has same amount of entries so use the largest data set and impute missing values for each \n",
    "    # ensure imputed missing data is for non physiological data only\n",
    "    # unbalanced data....? SMOTE?\n",
    "\n"
   ]
  }
 ],
 "metadata": {
  "kernelspec": {
   "display_name": "base",
   "language": "python",
   "name": "python3"
  },
  "language_info": {
   "name": "python",
   "version": "3.11.4"
  }
 },
 "nbformat": 4,
 "nbformat_minor": 2
}
