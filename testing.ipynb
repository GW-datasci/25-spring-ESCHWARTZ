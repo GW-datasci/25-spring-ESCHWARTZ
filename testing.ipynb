{
 "cells": [
  {
   "cell_type": "code",
   "execution_count": 2,
   "metadata": {},
   "outputs": [],
   "source": [
    "import wfdb\n",
    "import numpy as np\n",
    "import pandas as pd\n",
    "import matplotlib.pyplot as plt"
   ]
  },
  {
   "cell_type": "code",
   "execution_count": 3,
   "metadata": {},
   "outputs": [],
   "source": [
    "file_path = '/Users/evaschwartz/OneDrive - The George Washington University/data for capstone/data/TRAINING DATA -- non-eeg-dataset-for-assessment-of-neurological-status-1.0.0/Subject1_AccTempEDA.dat'\n",
    "header_path = '/Users/evaschwartz/OneDrive - The George Washington University/data for capstone/data/TRAINING DATA -- non-eeg-dataset-for-assessment-of-neurological-status-1.0.0/Subject1_AccTempEDA.hea'\n",
    "atr_path = '/Users/evaschwartz/OneDrive - The George Washington University/data for capstone/data/TRAINING DATA -- non-eeg-dataset-for-assessment-of-neurological-status-1.0.0/Subject1_AccTempEDA.atr'"
   ]
  },
  {
   "cell_type": "code",
   "execution_count": 6,
   "metadata": {},
   "outputs": [
    {
     "ename": "FileNotFoundError",
     "evalue": "[Errno 2] No such file or directory: '/Users/evaschwartz/OneDrive - The George Washington University/data for capstone/data/TRAINING DATA -- non-eeg-dataset-for-assessment-of-neurological-status-1.0.0/Subject1_AccTempEDA.dat.hea'",
     "output_type": "error",
     "traceback": [
      "\u001b[0;31m---------------------------------------------------------------------------\u001b[0m",
      "\u001b[0;31mFileNotFoundError\u001b[0m                         Traceback (most recent call last)",
      "Cell \u001b[0;32mIn[6], line 1\u001b[0m\n\u001b[0;32m----> 1\u001b[0m record \u001b[38;5;241m=\u001b[39m wfdb\u001b[38;5;241m.\u001b[39mrdrecord(file_path, sampfrom\u001b[38;5;241m=\u001b[39m\u001b[38;5;241m0\u001b[39m,sampto\u001b[38;5;241m=\u001b[39m\u001b[38;5;28;01mNone\u001b[39;00m)\n\u001b[1;32m      3\u001b[0m signals \u001b[38;5;241m=\u001b[39m record\u001b[38;5;241m.\u001b[39mp_signal\n\u001b[1;32m      4\u001b[0m raw_signals \u001b[38;5;241m=\u001b[39m record\u001b[38;5;241m.\u001b[39md_signal\n",
      "File \u001b[0;32m~/anaconda3/lib/python3.11/site-packages/wfdb/io/record.py:2029\u001b[0m, in \u001b[0;36mrdrecord\u001b[0;34m(record_name, sampfrom, sampto, channels, physical, pn_dir, m2s, smooth_frames, ignore_skew, return_res, force_channels, channel_names, warn_empty)\u001b[0m\n\u001b[1;32m   2024\u001b[0m     dir_list \u001b[38;5;241m=\u001b[39m pn_dir\u001b[38;5;241m.\u001b[39msplit(\u001b[38;5;124m\"\u001b[39m\u001b[38;5;124m/\u001b[39m\u001b[38;5;124m\"\u001b[39m)\n\u001b[1;32m   2025\u001b[0m     pn_dir \u001b[38;5;241m=\u001b[39m posixpath\u001b[38;5;241m.\u001b[39mjoin(\n\u001b[1;32m   2026\u001b[0m         dir_list[\u001b[38;5;241m0\u001b[39m], download\u001b[38;5;241m.\u001b[39mget_version(dir_list[\u001b[38;5;241m0\u001b[39m]), \u001b[38;5;241m*\u001b[39mdir_list[\u001b[38;5;241m1\u001b[39m:]\n\u001b[1;32m   2027\u001b[0m     )\n\u001b[0;32m-> 2029\u001b[0m record \u001b[38;5;241m=\u001b[39m rdheader(record_name, pn_dir\u001b[38;5;241m=\u001b[39mpn_dir, rd_segments\u001b[38;5;241m=\u001b[39m\u001b[38;5;28;01mFalse\u001b[39;00m)\n\u001b[1;32m   2031\u001b[0m \u001b[38;5;66;03m# Set defaults for sampto and channels input variables\u001b[39;00m\n\u001b[1;32m   2032\u001b[0m \u001b[38;5;28;01mif\u001b[39;00m sampto \u001b[38;5;129;01mis\u001b[39;00m \u001b[38;5;28;01mNone\u001b[39;00m:\n\u001b[1;32m   2033\u001b[0m     \u001b[38;5;66;03m# If the header does not contain the signal length, figure it\u001b[39;00m\n\u001b[1;32m   2034\u001b[0m     \u001b[38;5;66;03m# out from the first dat file. This is only possible for single\u001b[39;00m\n\u001b[1;32m   2035\u001b[0m     \u001b[38;5;66;03m# segment records. If there are no signals, sig_len is 0.\u001b[39;00m\n",
      "File \u001b[0;32m~/anaconda3/lib/python3.11/site-packages/wfdb/io/record.py:1839\u001b[0m, in \u001b[0;36mrdheader\u001b[0;34m(record_name, pn_dir, rd_segments)\u001b[0m\n\u001b[1;32m   1837\u001b[0m file_name \u001b[38;5;241m=\u001b[39m \u001b[38;5;124mf\u001b[39m\u001b[38;5;124m\"\u001b[39m\u001b[38;5;132;01m{\u001b[39;00mbase_record_name\u001b[38;5;132;01m}\u001b[39;00m\u001b[38;5;124m.hea\u001b[39m\u001b[38;5;124m\"\u001b[39m\n\u001b[1;32m   1838\u001b[0m \u001b[38;5;28;01mif\u001b[39;00m pn_dir \u001b[38;5;129;01mis\u001b[39;00m \u001b[38;5;28;01mNone\u001b[39;00m:\n\u001b[0;32m-> 1839\u001b[0m     \u001b[38;5;28;01mwith\u001b[39;00m \u001b[38;5;28mopen\u001b[39m(\n\u001b[1;32m   1840\u001b[0m         os\u001b[38;5;241m.\u001b[39mpath\u001b[38;5;241m.\u001b[39mjoin(dir_name, file_name),\n\u001b[1;32m   1841\u001b[0m         \u001b[38;5;124m\"\u001b[39m\u001b[38;5;124mr\u001b[39m\u001b[38;5;124m\"\u001b[39m,\n\u001b[1;32m   1842\u001b[0m         encoding\u001b[38;5;241m=\u001b[39m\u001b[38;5;124m\"\u001b[39m\u001b[38;5;124mascii\u001b[39m\u001b[38;5;124m\"\u001b[39m,\n\u001b[1;32m   1843\u001b[0m         errors\u001b[38;5;241m=\u001b[39m\u001b[38;5;124m\"\u001b[39m\u001b[38;5;124mignore\u001b[39m\u001b[38;5;124m\"\u001b[39m,\n\u001b[1;32m   1844\u001b[0m     ) \u001b[38;5;28;01mas\u001b[39;00m f:\n\u001b[1;32m   1845\u001b[0m         header_content \u001b[38;5;241m=\u001b[39m f\u001b[38;5;241m.\u001b[39mread()\n\u001b[1;32m   1846\u001b[0m \u001b[38;5;28;01melse\u001b[39;00m:\n",
      "\u001b[0;31mFileNotFoundError\u001b[0m: [Errno 2] No such file or directory: '/Users/evaschwartz/OneDrive - The George Washington University/data for capstone/data/TRAINING DATA -- non-eeg-dataset-for-assessment-of-neurological-status-1.0.0/Subject1_AccTempEDA.dat.hea'"
     ]
    }
   ],
   "source": [
    "record = wfdb.rdrecord(file_path, sampfrom=0,sampto=None)\n",
    "\n",
    "signals = record.p_signal\n",
    "raw_signals = record.d_signal\n",
    "\n",
    "\n",
    "annotations = wfdb.rdann(file_path, 'atr')"
   ]
  },
  {
   "cell_type": "code",
   "execution_count": null,
   "metadata": {},
   "outputs": [],
   "source": []
  }
 ],
 "metadata": {
  "kernelspec": {
   "display_name": "base",
   "language": "python",
   "name": "python3"
  },
  "language_info": {
   "codemirror_mode": {
    "name": "ipython",
    "version": 3
   },
   "file_extension": ".py",
   "mimetype": "text/x-python",
   "name": "python",
   "nbconvert_exporter": "python",
   "pygments_lexer": "ipython3",
   "version": "3.11.4"
  }
 },
 "nbformat": 4,
 "nbformat_minor": 2
}
